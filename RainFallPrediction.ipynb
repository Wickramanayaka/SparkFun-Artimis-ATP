{
  "nbformat": 4,
  "nbformat_minor": 0,
  "metadata": {
    "colab": {
      "name": "RainFallPrediction.ipynb",
      "provenance": [],
      "collapsed_sections": []
    },
    "kernelspec": {
      "name": "python3",
      "display_name": "Python 3"
    }
  },
  "cells": [
    {
      "cell_type": "code",
      "metadata": {
        "id": "DO3HIZwnBCdE",
        "colab_type": "code",
        "colab": {}
      },
      "source": [
        "!pip install tensorflow==2.0.0-beta0\n",
        "import tensorflow as tf\n",
        "from tensorflow import keras\n",
        "import numpy as np\n",
        "import matplotlib.pyplot as plt\n",
        "import math\n",
        "import pandas as pd\n",
        "from google.colab import files\n"
      ],
      "execution_count": 0,
      "outputs": []
    },
    {
      "cell_type": "code",
      "metadata": {
        "id": "5VRXvputBlnG",
        "colab_type": "code",
        "colab": {}
      },
      "source": [
        "uploaded = files.upload()\n",
        "import io\n",
        "df2 = pd.read_csv(io.BytesIO(uploaded['austin_weather.csv']))\n",
        "X = df2[[\"Temp\",\"Humidity\",\"Pressure\"]]\n",
        "y = df2[\"Rain\"]\n",
        "from sklearn.model_selection import train_test_split\n",
        "train_X, test_X, train_y, test_y = train_test_split(X, y, train_size=0.8, test_size=0.2, random_state=122)\n",
        "print(train_X.shape)\n",
        "print(test_X.shape)\n",
        "from tensorflow.keras import layers\n",
        "model = tf.keras.Sequential()\n",
        "model.add(layers.Dense(1, activation='relu', input_shape=(3,)))\n",
        "model.add(layers.Dense(16, activation='relu'))\n",
        "model.add(layers.Dense(16, activation='relu'))\n",
        "model.add(layers.Dense(1, activation='linear'))\n",
        "model.compile(optimizer='rmsprop', loss='mse', metrics=['accuracy'])\n",
        "model.summary()\n"
      ],
      "execution_count": 0,
      "outputs": []
    },
    {
      "cell_type": "code",
      "metadata": {
        "id": "4ZVmSEVOlwAY",
        "colab_type": "code",
        "colab": {}
      },
      "source": [
        "history = model.fit(train_X, train_y, epochs=3000, batch_size=16, validation_data=(test_X, test_y))"
      ],
      "execution_count": 0,
      "outputs": []
    },
    {
      "cell_type": "code",
      "metadata": {
        "id": "2g-AAkTeUviA",
        "colab_type": "code",
        "colab": {}
      },
      "source": [
        "model.predict([[[48,68,30]]])"
      ],
      "execution_count": 0,
      "outputs": []
    },
    {
      "cell_type": "code",
      "metadata": {
        "id": "JNd3h_0xBXtH",
        "colab_type": "code",
        "colab": {}
      },
      "source": [
        "# Convert the model to the TensorFlow Lite format without quantization\n",
        "converter = tf.lite.TFLiteConverter.from_keras_model(model)\n",
        "tflite_model = converter.convert()\n",
        "\n",
        "# Save the model to disk\n",
        "open(\"sine_model.tflite\", \"wb\").write(tflite_model)\n",
        "\n",
        "# Convert the model to the TensorFlow Lite format with quantization\n",
        "converter = tf.lite.TFLiteConverter.from_keras_model(model)\n",
        "converter.optimizations = [tf.lite.Optimize.OPTIMIZE_FOR_SIZE]\n",
        "tflite_model = converter.convert()\n",
        "\n",
        "# Save the model to disk\n",
        "open(\"sine_model_quantized.tflite\", \"wb\").write(tflite_model)"
      ],
      "execution_count": 0,
      "outputs": []
    },
    {
      "cell_type": "code",
      "metadata": {
        "id": "6wRtFX32BaLD",
        "colab_type": "code",
        "colab": {}
      },
      "source": [
        "# Instantiate an interpreter for each model\n",
        "sine_model = tf.lite.Interpreter('sine_model.tflite')\n",
        "sine_model_quantized = tf.lite.Interpreter('sine_model_quantized.tflite')\n",
        "\n",
        "# Allocate memory for each model\n",
        "sine_model.allocate_tensors()\n",
        "sine_model_quantized.allocate_tensors()\n",
        "\n",
        "# Get the input and output tensors so we can feed in values and get the results\n",
        "sine_model_input = sine_model.tensor(sine_model.get_input_details()[0][\"index\"])\n",
        "sine_model_output = sine_model.tensor(sine_model.get_output_details()[0][\"index\"])\n",
        "sine_model_quantized_input = sine_model_quantized.tensor(sine_model_quantized.get_input_details()[0][\"index\"])\n",
        "sine_model_quantized_output = sine_model_quantized.tensor(sine_model_quantized.get_output_details()[0][\"index\"])\n",
        "\n",
        "# Create arrays to store the results\n",
        "sine_model_predictions = np.empty(test_X.size)\n",
        "sine_model_quantized_predictions = np.empty(test_X.size)\n",
        "\n",
        "# Run each model's interpreter for each value and store the results in arrays\n",
        "\n",
        "sine_model_input().put(0,100)\n",
        "sine_model_input().put(1,20)\n",
        "sine_model_input().put(2,50)\n",
        "sine_model.invoke()\n",
        "sine_model_predictions = sine_model_output()[0]\n",
        "print(sine_model_predictions)\n",
        "sine_model_quantized_input().put(0,100)\n",
        "sine_model_quantized_input().put(1,20)\n",
        "sine_model_quantized_input().put(2,50)\n",
        "sine_model_quantized.invoke()\n",
        "sine_model_quantized_predictions = sine_model_quantized_output()[0]\n"
      ],
      "execution_count": 0,
      "outputs": []
    },
    {
      "cell_type": "code",
      "metadata": {
        "id": "9nXOCbB3WV5q",
        "colab_type": "code",
        "colab": {}
      },
      "source": [
        "import os\n",
        "basic_model_size = os.path.getsize(\"sine_model.tflite\")\n",
        "print(\"Basic model is %d bytes\" % basic_model_size)\n",
        "quantized_model_size = os.path.getsize(\"sine_model_quantized.tflite\")\n",
        "print(\"Quantized model is %d bytes\" % quantized_model_size)\n",
        "difference = basic_model_size - quantized_model_size\n",
        "print(\"Difference is %d bytes\" % difference)\n",
        "# Install xxd if it is not available\n",
        "!apt-get -qq install xxd\n",
        "# Save the file as a C source file\n",
        "!xxd -i sine_model_quantized.tflite > sine_model_quantized.cc\n",
        "# Print the source file\n",
        "!cat sine_model_quantized.cc"
      ],
      "execution_count": 0,
      "outputs": []
    }
  ]
}